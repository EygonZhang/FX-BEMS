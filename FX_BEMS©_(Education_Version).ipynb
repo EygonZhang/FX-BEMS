{
  "nbformat": 4,
  "nbformat_minor": 0,
  "metadata": {
    "colab": {
      "provenance": [],
      "mount_file_id": "19qe-yyQ-Y1v7tEu5i660yCOBSAy4a5Nr",
      "authorship_tag": "ABX9TyNgWWxZful2nZRxC+xEzRgz",
      "include_colab_link": true
    },
    "kernelspec": {
      "name": "python3",
      "display_name": "Python 3"
    },
    "language_info": {
      "name": "python"
    }
  },
  "cells": [
    {
      "cell_type": "markdown",
      "metadata": {
        "id": "view-in-github",
        "colab_type": "text"
      },
      "source": [
        "<a href=\"https://colab.research.google.com/github/EygonZhang/FX-BEMS/blob/main/FX_BEMS%C2%A9_(Education_Version).ipynb\" target=\"_parent\"><img src=\"https://colab.research.google.com/assets/colab-badge.svg\" alt=\"Open In Colab\"/></a>"
      ]
    },
    {
      "cell_type": "markdown",
      "source": [
        "0. Design the geometry input"
      ],
      "metadata": {
        "id": "9W1R7kjWmwrQ"
      }
    },
    {
      "cell_type": "code",
      "source": [
        "import numpy as np\n",
        "import math\n",
        "\n",
        "# Set the range and distribution of r\n",
        "num_elements = 10  # Number of blade elements\n",
        "R = 8.5\n",
        "r_start = 2.473  # Starting radius (m)\n",
        "r_end = 8.5    # Ending radius (m)\n",
        "c_start = 1.545 # Starting chord length (m)\n",
        "c_end = 0.927 # Ending chord length (m)\n",
        "# Generate equally spaced r values using linspace, creating num_elements + 1 points divided into num_elements segments\n",
        "delta_r = (r_end - r_start) / num_elements  # Width of each segment δr\n",
        "radii = np.linspace(r_start, r_end, num_elements + 1)\n",
        "chord_lengths = np.linspace(c_start, c_end, num_elements + 1)\n",
        "\n",
        "theta_root = math.radians(10)\n",
        "theta_tip = math.radians(0)\n",
        "\n",
        "def get_twist_angle(r, r_start, R, theta_root, theta_tip):\n",
        "    return theta_root - (theta_root - theta_tip) * ((r - r_start) / (R - r_start))\n",
        "\n",
        "print(\"r (m)    twist (deg)\")\n",
        "for r in radii:\n",
        "    twist = get_twist_angle(r, r_start, R, theta_root, theta_tip)\n",
        "    print(f\"{r:6.3f}   {math.degrees(twist):6.2f}\")\n",
        "print(\"Segment width δr:\", delta_r)\n",
        "print(\"Radius values radii:\", radii)\n",
        "print(\"Chord values chord:\", chord_lengths)"
      ],
      "metadata": {
        "colab": {
          "base_uri": "https://localhost:8080/"
        },
        "id": "cGVyhnYgEOwR",
        "outputId": "0b5dfd2b-845c-4188-d8f9-e094e3483caf"
      },
      "execution_count": 1,
      "outputs": [
        {
          "output_type": "stream",
          "name": "stdout",
          "text": [
            "r (m)    twist (deg)\n",
            " 2.473    10.00\n",
            " 3.076     9.00\n",
            " 3.678     8.00\n",
            " 4.281     7.00\n",
            " 4.884     6.00\n",
            " 5.486     5.00\n",
            " 6.089     4.00\n",
            " 6.692     3.00\n",
            " 7.295     2.00\n",
            " 7.897     1.00\n",
            " 8.500     0.00\n",
            "Segment width δr: 0.6027\n",
            "Radius values radii: [2.473  3.0757 3.6784 4.2811 4.8838 5.4865 6.0892 6.6919 7.2946 7.8973\n",
            " 8.5   ]\n",
            "Chord values chord: [1.545  1.4832 1.4214 1.3596 1.2978 1.236  1.1742 1.1124 1.0506 0.9888\n",
            " 0.927 ]\n"
          ]
        }
      ]
    },
    {
      "cell_type": "markdown",
      "source": [
        "1. Calculate a and a' via BEM **iteration** with XFoil input"
      ],
      "metadata": {
        "id": "Z8lKcfv1QcD1"
      }
    },
    {
      "cell_type": "code",
      "execution_count": 2,
      "metadata": {
        "colab": {
          "base_uri": "https://localhost:8080/"
        },
        "id": "65OFPJYNRa27",
        "outputId": "d2a22bc3-eb00-4a79-ad1d-faa953151158"
      },
      "outputs": [
        {
          "output_type": "stream",
          "name": "stdout",
          "text": [
            "Radius (r)  | a (no tip loss) | a' (no tip loss) | a (with tip loss) | a'(with tip loss) | Tip loss F |    Cn    |    Ct    |    CL   |   CD  \n",
            "2.473     | 0.000050      | -0.000049       | 0.000050       | -0.000049      | 0.9997    | 0.000465 | -0.000840 | 0.0000  | 0.0010\n",
            "3.076     | 0.011972      | 0.002276       | 0.011982       | 0.002278      | 0.9991    | 0.101692 | 0.043496 | 0.1106  | 0.0010\n",
            "3.678     | 0.027123      | 0.003573       | 0.027178       | 0.003580      | 0.9981    | 0.207908 | 0.073754 | 0.2206  | 0.0010\n",
            "4.281     | 0.044740      | 0.004324       | 0.044936       | 0.004341      | 0.9960    | 0.315299 | 0.095006 | 0.3293  | 0.0011\n",
            "4.884     | 0.063217      | 0.004749       | 0.063828       | 0.004789      | 0.9916    | 0.421859 | 0.110935 | 0.4362  | 0.0011\n",
            "5.486     | 0.080176      | 0.004960       | 0.081936       | 0.005052      | 0.9817    | 0.526238 | 0.124225 | 0.5407  | 0.0013\n",
            "6.089     | 0.093034      | 0.005024       | 0.097767       | 0.005234      | 0.9597    | 0.627461 | 0.136803 | 0.6422  | 0.0014\n",
            "6.692     | 0.101997      | 0.005061       | 0.114038       | 0.005543      | 0.9127    | 0.736861 | 0.151637 | 0.7523  | 0.0016\n",
            "7.295     | 0.107060      | 0.005103       | 0.136828       | 0.006223      | 0.8192    | 0.860175 | 0.168911 | 0.8766  | 0.0019\n",
            "7.897     | 0.106222      | 0.005056       | 0.185360       | 0.007882      | 0.6401    | 0.983366 | 0.181100 | 0.9999  | 0.0023\n",
            "8.500     | 0.096434      | 0.004736       | 0.477500       | 0.013319      | 0.3500    | 1.069223 | 0.126702 | 1.0767  | 0.0030\n"
          ]
        }
      ],
      "source": [
        "import numpy as np\n",
        "\n",
        "# Parameter settings\n",
        "U_infinity = 2  # Freestream velocity (m/s)\n",
        "omega = 1   # Rotation speed (rad/s)\n",
        "R = 8.5  # Fixed total blade radius (m)\n",
        "B = 3  # Number of blades\n",
        "tolerance = 1e-6  # Iteration convergence tolerance\n",
        "small_value = 1e-6  # Small value to prevent division by zero errors\n",
        "\n",
        "# Initial CL, CD\n",
        "#================== The CL and CD are prompted from XFoil 2D results without considering the 3D rotation correction==================#\n",
        "CL_initial = np.array([0.00000, 0.11060, 0.22060, 0.32930, 0.43620, 0.54070, 0.64220, 0.75230, 0.87660, 0.99990, 1.07670])\n",
        "CD_initial = np.array([0.00096, 0.00097, 0.00100, 0.00106, 0.00115, 0.00127, 0.00141, 0.00163, 0.00192, 0.00233, 0.00300])\n",
        "\n",
        "# Twist angle parameters\n",
        "theta_root = math.radians(10)  # Twist angle at blade root (10°)\n",
        "theta_tip = math.radians(0)   # Twist angle at blade tip (0°)\n",
        "\n",
        "# Calculate twist angle at given radius position\n",
        "\n",
        "def get_twist_angle(r, r_start, R, theta_root, theta_tip):\n",
        "    return theta_root - (theta_root - theta_tip) * ((r - r_start) / (R - r_start))\n",
        "\n",
        "# Prandtl tip loss factor calculation function\n",
        "def prandtl_tip_loss(B, r, R, phi):\n",
        "    if abs(r - R) < small_value:\n",
        "        return 0.35  # When r = R, F = 0.25\n",
        "    f = (B / 2) * (R - r) / (r * math.sin(phi))\n",
        "    F = (2 / math.pi) * math.acos(math.exp(-f))\n",
        "    return F\n",
        "\n",
        "# Function to create T transpose matrix\n",
        "def calculate_forces_projection(CL, CD, phi):\n",
        "    # Calculate T matrix and apply to [CL, CD]\n",
        "    T = np.array([[math.cos(phi), math.sin(phi)],\n",
        "                  [math.sin(phi), -math.cos(phi)]])\n",
        "    forces = np.array([CL, CD])\n",
        "    projected_forces = T @ forces  # Matrix multiplication\n",
        "    Cn, Ct = projected_forces\n",
        "    return Cn, Ct\n",
        "\n",
        "# Function to calculate induction factors, considering twist angle and new formulas\n",
        "def calculate_induction_with_twist(a_init, a_prime_init, r, chord, CL, CD, consider_tip_loss):\n",
        "    a = a_init\n",
        "    a_prime = a_prime_init\n",
        "\n",
        "    for _ in range(1000):\n",
        "        # Calculate twist angle and correct relative flow angle\n",
        "        twist_angle = get_twist_angle(r, r_start, R, theta_root, theta_tip)\n",
        "        phi = math.atan((1 - a) * U_infinity / ((1 + a_prime) * omega * r + small_value)) - twist_angle\n",
        "\n",
        "        # Calculate Cn and Ct based on corrected phi value\n",
        "        Cn, Ct = calculate_forces_projection(CL, CD, phi)\n",
        "\n",
        "        # Calculate Prandtl tip loss factor\n",
        "        if consider_tip_loss:\n",
        "            F = prandtl_tip_loss(B, r, R, phi)\n",
        "        else:\n",
        "            F = 1  # Without considering tip loss\n",
        "\n",
        "        # Calculate Solidity (blade loading coefficient) sigma\n",
        "        sigma = chord / (2 * math.pi * r)\n",
        "\n",
        "        # Update a and a_prime\n",
        "        a_new = 1 / (1 + F * (4 * math.sin(phi)**2) / (sigma * Cn + small_value))\n",
        "        a_prime_new = 1 / (F * (4 * math.sin(phi) * math.cos(phi) / (sigma * Ct + small_value)) - 1)\n",
        "\n",
        "        # Check convergence condition\n",
        "        if abs(a_new - a) < tolerance and abs(a_prime_new - a_prime) < tolerance:\n",
        "            a, a_prime = a_new, a_prime_new\n",
        "            break\n",
        "        # Update induction factors\n",
        "        a, a_prime = a_new, a_prime_new\n",
        "\n",
        "    return a, a_prime, F, Cn, Ct\n",
        "\n",
        "# Initialize result arrays\n",
        "a_no_tip = []\n",
        "a_prime_no_tip = []\n",
        "a_with_tip = []\n",
        "a_prime_with_tip = []\n",
        "F_values = []\n",
        "Cn_initial = []\n",
        "Ct_initial = []\n",
        "\n",
        "# Calculate induction factors and tip loss factors for each radius value\n",
        "for i, r in enumerate(radii):\n",
        "    CL = CL_initial[i]\n",
        "    CD = CD_initial[i]\n",
        "    chord = chord_lengths[i]\n",
        "\n",
        "    # Calculate induction factors without tip loss\n",
        "    a_nt, a_prime_nt, _, Cn, Ct = calculate_induction_with_twist(0.3, 0.01, r, chord, CL, CD, consider_tip_loss=False)\n",
        "    a_no_tip.append(a_nt)\n",
        "    a_prime_no_tip.append(a_prime_nt)\n",
        "\n",
        "    # Calculate induction factors with tip loss\n",
        "    a_wt, a_prime_wt, F, Cn, Ct = calculate_induction_with_twist(0.3, 0.01, r, chord, CL, CD, consider_tip_loss=True)\n",
        "    a_with_tip.append(a_wt)\n",
        "    a_prime_with_tip.append(a_prime_wt)\n",
        "    F_values.append(F)\n",
        "    Cn_initial.append(Cn)\n",
        "    Ct_initial.append(Ct)\n",
        "\n",
        "# Output results\n",
        "print(\"Radius (r)  | a (no tip loss) | a' (no tip loss) | a (with tip loss) | a'(with tip loss) | Tip loss F |    Cn    |    Ct    |    CL   |   CD  \")\n",
        "for i, r in enumerate(radii):\n",
        "    print(f\"{r:.3f}     | {a_no_tip[i]:.6f}      | {a_prime_no_tip[i]:.6f}       | \"\n",
        "          f\"{a_with_tip[i]:.6f}       | {a_prime_with_tip[i]:.6f}      | {F_values[i]:.4f}    | \"\n",
        "          f\"{Cn_initial[i]:.6f} | {Ct_initial[i]:.6f} | {CL_initial[i]:.4f}  | {CD_initial[i]:.4f}\")"
      ]
    },
    {
      "cell_type": "markdown",
      "source": [
        "2. Tip Loss Factor F check"
      ],
      "metadata": {
        "id": "zFW9qT8TtIKd"
      }
    },
    {
      "cell_type": "code",
      "source": [
        "import math\n",
        "import numpy as np\n",
        "\n",
        "theta_root = math.radians(10)  # Twist angle at blade root (10°)\n",
        "theta_tip = math.radians(0)    # Twist angle at blade tip (0°)\n",
        "\n",
        "# Data for r = R position\n",
        "r = R\n",
        "chord = 0.927\n",
        "CL = 1.07670\n",
        "CD = 0.00300\n",
        "\n",
        "def get_twist_angle(r, R, theta_root, theta_tip):\n",
        "    return theta_root - (theta_root - theta_tip) * (r / R)\n",
        "\n",
        "def prandtl_tip_loss(B, r, R, phi):\n",
        "    # When r approaches R, directly return assumed F=0.5\n",
        "    if abs(r - R) < small_value:\n",
        "        return 0.25\n",
        "    f = (B / 2) * (R - r) / (r * math.sin(phi))\n",
        "    F = (2 / math.pi) * math.acos(math.exp(-f))\n",
        "    return F\n",
        "\n",
        "\n",
        "def calculate_induction_with_twist_debug(a_init, a_prime_init, r, chord, CL, CD, consider_tip_loss):\n",
        "    a = a_init\n",
        "    a_prime = a_prime_init\n",
        "    print(f\"【Debug info】 r = {r:.3f} m, chord = {chord:.3f} m, CL = {CL}, CD = {CD}\")\n",
        "    for it in range(1000):\n",
        "        twist_angle = get_twist_angle(r, R, theta_root, theta_tip)\n",
        "        # Calculate relative flow angle phi (subtracting twist angle)\n",
        "        phi = math.atan((1 - a) * U_infinity / ((1 + a_prime) * omega * r + small_value)) - twist_angle\n",
        "\n",
        "        # When considering tip loss, r==R directly returns F=0.5\n",
        "        if consider_tip_loss:\n",
        "            F = prandtl_tip_loss(B, r, R, phi)\n",
        "        else:\n",
        "            F = 1\n",
        "\n",
        "        Cn, Ct = calculate_forces_projection(CL, CD, phi)\n",
        "        sigma = chord / (2 * math.pi * r)\n",
        "\n",
        "        # Update a and a′ formulas\n",
        "        a_new = 1 / (1 + F * (4 * math.sin(phi)**2) / (sigma * Cn + small_value))\n",
        "        a_prime_new = 1 / (F * (4 * math.sin(phi) * math.cos(phi) / (sigma * Ct + small_value)) - 1)\n",
        "\n",
        "        print(f\"Iteration {it:2d}: φ = {phi:.6f} rad, a = {a_new:.6f}, a' = {a_prime_new:.6f}, F = {F:.4f}\")\n",
        "\n",
        "        # Convergence check\n",
        "        if abs(a_new - a) < tolerance and abs(a_prime_new - a_prime) < tolerance:\n",
        "            a, a_prime = a_new, a_prime_new\n",
        "            break\n",
        "        a, a_prime = a_new, a_prime_new\n",
        "\n",
        "    return a, a_prime, F, Cn, Ct\n",
        "\n",
        "print(\"----- Debug process with tip loss (F=0.5 when r=R) -----\")\n",
        "a_with_tip, a_prime_with_tip, F_with_tip, Cn_with_tip, Ct_with_tip = calculate_induction_with_twist_debug(\n",
        "    0.3, 0.01, r, chord, CL, CD, consider_tip_loss=True\n",
        ")\n",
        "print(\"\\nConvergence result (with tip loss): a = {:.6f}, a' = {:.6f}, F = {:.4f}\".format(a_with_tip, a_prime_with_tip, F_with_tip))"
      ],
      "metadata": {
        "colab": {
          "base_uri": "https://localhost:8080/"
        },
        "id": "lz3p50c_QIQ_",
        "outputId": "015da235-a500-4845-f32f-7cc77d19e68d"
      },
      "execution_count": 4,
      "outputs": [
        {
          "output_type": "stream",
          "name": "stdout",
          "text": [
            "----- Debug process with tip loss (F=0.5 when r=R) -----\n",
            "【Debug info】 r = 8.500 m, chord = 0.927 m, CL = 1.0767, CD = 0.003\n",
            "Iteration  0: φ = 0.161652 rad, a = 0.416022, a' = 0.018971, F = 0.2500\n",
            "Iteration  1: φ = 0.134040 rad, a = 0.509201, a' = 0.018823, F = 0.2500\n",
            "Iteration  2: φ = 0.112867 rad, a = 0.594231, a' = 0.018698, F = 0.2500\n",
            "Iteration  3: φ = 0.093450 rad, a = 0.681283, a' = 0.018561, F = 0.2500\n",
            "Iteration  4: φ = 0.073493 rad, a = 0.775676, a' = 0.018375, F = 0.2500\n",
            "Iteration  5: φ = 0.051783 rad, a = 0.874492, a' = 0.018047, F = 0.2500\n",
            "Iteration  6: φ = 0.029000 rad, a = 0.956938, a' = 0.017227, F = 0.2500\n",
            "Iteration  7: φ = 0.009960 rad, a = 0.994720, a' = 0.013748, F = 0.2500\n",
            "Iteration  8: φ = 0.001226 rad, a = 0.999920, a' = -0.022468, F = 0.2500\n",
            "Iteration  9: φ = 0.000019 rad, a = 1.000000, a' = -0.723892, F = 0.2500\n",
            "Iteration 10: φ = 0.000000 rad, a = 1.000000, a' = -0.999666, F = 0.2500\n",
            "Iteration 11: φ = 0.000000 rad, a = 1.000000, a' = -1.000000, F = 0.2500\n",
            "Iteration 12: φ = 0.000000 rad, a = 1.000000, a' = -1.000000, F = 0.2500\n",
            "\n",
            "Convergence result (with tip loss): a = 1.000000, a' = -1.000000, F = 0.2500\n"
          ]
        }
      ]
    },
    {
      "cell_type": "markdown",
      "source": [
        "3. Calculate the Relative velocity **Urel** and Flow angle **phi** (Private)"
      ],
      "metadata": {
        "id": "31KQYTDVm24Z"
      }
    },
    {
      "cell_type": "markdown",
      "source": [
        "3. Output the Lift & Drag and Normal & Tangential Force (Private)"
      ],
      "metadata": {
        "id": "bBLsBibHGLad"
      }
    },
    {
      "cell_type": "markdown",
      "source": [
        "4. CSV output (Private)\n"
      ],
      "metadata": {
        "id": "P3cj1z4mJLay"
      }
    }
  ]
}